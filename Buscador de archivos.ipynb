{
 "cells": [
  {
   "cell_type": "code",
   "execution_count": 2,
   "source": [
    "ruta = \"hola\"\r\n",
    "texto = \"hola\"\r\n",
    "def Var():\r\n",
    "    print(ruta)\r\n",
    "    print(texto)\r\n",
    "Var()"
   ],
   "outputs": [
    {
     "output_type": "stream",
     "name": "stdout",
     "text": [
      "hola\n",
      "hola\n"
     ]
    }
   ],
   "metadata": {}
  },
  {
   "cell_type": "code",
   "execution_count": 1,
   "source": [
    "lista = [3,4,5,7,7,45,3,4543,534]\r\n",
    "3 in lista\r\n",
    "if True:\r\n",
    "    print(\"Si\")"
   ],
   "outputs": [
    {
     "output_type": "stream",
     "name": "stdout",
     "text": [
      "Si\n"
     ]
    }
   ],
   "metadata": {}
  },
  {
   "cell_type": "code",
   "execution_count": 5,
   "source": [
    "a = \"Hola\"\r\n",
    "b = a + \"/n\"\r\n",
    "print(b)"
   ],
   "outputs": [
    {
     "output_type": "stream",
     "name": "stdout",
     "text": [
      "Hola/n\n"
     ]
    }
   ],
   "metadata": {}
  },
  {
   "cell_type": "code",
   "execution_count": null,
   "source": [],
   "outputs": [],
   "metadata": {}
  }
 ],
 "metadata": {
  "orig_nbformat": 4,
  "language_info": {
   "name": "python",
   "version": "3.9.6",
   "mimetype": "text/x-python",
   "codemirror_mode": {
    "name": "ipython",
    "version": 3
   },
   "pygments_lexer": "ipython3",
   "nbconvert_exporter": "python",
   "file_extension": ".py"
  },
  "kernelspec": {
   "name": "python3",
   "display_name": "Python 3.9.6 64-bit"
  },
  "interpreter": {
   "hash": "6df21b6484395e7564d266826516fc8a1d1415b877cf19df24b0ab88f7fb5d51"
  }
 },
 "nbformat": 4,
 "nbformat_minor": 2
}